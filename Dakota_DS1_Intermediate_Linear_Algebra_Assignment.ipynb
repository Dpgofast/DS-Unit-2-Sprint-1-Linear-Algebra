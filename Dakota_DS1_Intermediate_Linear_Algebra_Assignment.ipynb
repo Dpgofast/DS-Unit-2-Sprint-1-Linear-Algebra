{
  "nbformat": 4,
  "nbformat_minor": 0,
  "metadata": {
    "colab": {
      "name": "Dakota_DS1_Intermediate Linear Algebra Assignment.ipynb",
      "version": "0.3.2",
      "provenance": [],
      "collapsed_sections": [],
      "include_colab_link": true
    },
    "kernelspec": {
      "name": "python3",
      "display_name": "Python 3"
    }
  },
  "cells": [
    {
      "cell_type": "markdown",
      "metadata": {
        "id": "view-in-github",
        "colab_type": "text"
      },
      "source": [
        "<a href=\"https://colab.research.google.com/github/Dpgofast/DS-Unit-2-Sprint-1-Linear-Algebra/blob/master/Dakota_DS1_Intermediate_Linear_Algebra_Assignment.ipynb\" target=\"_parent\"><img src=\"https://colab.research.google.com/assets/colab-badge.svg\" alt=\"Open In Colab\"/></a>"
      ]
    },
    {
      "metadata": {
        "id": "GSNiYn8lr6nN",
        "colab_type": "text"
      },
      "cell_type": "markdown",
      "source": [
        "# Statistics"
      ]
    },
    {
      "metadata": {
        "id": "3d4izUhQvh2_",
        "colab_type": "text"
      },
      "cell_type": "markdown",
      "source": [
        "## 1.1 Sales for the past week was the following amounts: [3505, 2400, 3027, 2798, 3700, 3250, 2689]. Without using library functions, what is the mean, variance, and standard deviation of of sales from last week? (for extra bonus points, write your own function that can calculate these two values for any sized list)"
      ]
    },
    {
      "metadata": {
        "id": "w1iZfYvBtEA1",
        "colab_type": "code",
        "outputId": "036ea107-7e88-4c70-9fba-55d8a1432fae",
        "colab": {
          "base_uri": "https://localhost:8080/",
          "height": 139
        }
      },
      "cell_type": "code",
      "source": [
        "sales = [3505, 2400, 3027, 2798, 3700, 3250, 2689]\n",
        "def mean(nums):\n",
        "  return sum(nums) / len(nums)\n",
        "\n",
        "def variance(nums, sample=False):\n",
        "  if sample:\n",
        "    return sum((x - mean(nums)) ** 2 for x in nums) / (len(nums) - 1)\n",
        "  else:\n",
        "    return sum((x - mean(nums)) ** 2 for x in nums) / len(nums)\n",
        "\n",
        "def stdev(nums):\n",
        "  return (variance(nums))**.5 \n",
        "\n",
        "print('\\n Mean of Sales: \\n',mean(sales), '\\n Variance of Sales: \\n',variance(sales, sample=True), '\\n Standard deviation: \\n',stdev(sales))\n"
      ],
      "execution_count": 74,
      "outputs": [
        {
          "output_type": "stream",
          "text": [
            "\n",
            " Mean of Sales: \n",
            " 3052.714285714286 \n",
            " Variance of Sales: \n",
            " 214387.90476190473 \n",
            " Standard deviation: \n",
            " 428.67360686714756\n"
          ],
          "name": "stdout"
        }
      ]
    },
    {
      "metadata": {
        "id": "oh63KaOctEp_",
        "colab_type": "text"
      },
      "cell_type": "markdown",
      "source": [
        "## 1.2 Find the covariance between last week's sales numbers and the number of customers that entered the store last week: [127, 80, 105, 92, 120, 115, 93] (you may use librray functions for calculating the covariance since we didn't specifically talk about its formula)"
      ]
    },
    {
      "metadata": {
        "id": "G7ZB0krot564",
        "colab_type": "code",
        "outputId": "34a8e575-a5cb-4bd0-970e-0cc40af8341f",
        "colab": {
          "base_uri": "https://localhost:8080/",
          "height": 69
        }
      },
      "cell_type": "code",
      "source": [
        "import numpy as np \n",
        "\n",
        "entry = [127, 80, 105, 92, 120, 115, 93]\n",
        "covar = np. cov(sales, entry,ddof=0)\n",
        "print('Covariance is: \\n',covar)\n"
      ],
      "execution_count": 75,
      "outputs": [
        {
          "output_type": "stream",
          "text": [
            "Covariance is: \n",
            " [[183761.06122449   6518.02040816]\n",
            " [  6518.02040816    249.3877551 ]]\n"
          ],
          "name": "stdout"
        }
      ]
    },
    {
      "metadata": {
        "id": "J9SbUY9mt66I",
        "colab_type": "text"
      },
      "cell_type": "markdown",
      "source": [
        "## 1.3 Find the standard deviation of customers who entered the store last week. Then, use the standard deviations of both sales and customers to standardize the covariance to find the correlation coefficient that summarizes the relationship between sales and customers. (You may use library functions to check your work.)"
      ]
    },
    {
      "metadata": {
        "id": "vFJms2YRrKhY",
        "colab_type": "code",
        "outputId": "56d17956-0bee-465c-ec09-fe8b164979ef",
        "colab": {
          "base_uri": "https://localhost:8080/",
          "height": 87
        }
      },
      "cell_type": "code",
      "source": [
        "stdentry = stdev(entry)\n",
        "stdsale = stdev(sales)\n",
        "#corrcoef is covariance(x,y)\\ stdev(x,y)\n",
        "dfactor = np.array([[stdsale **2, stdsale * stdentry],\n",
        "                    [stdsale * stdentry, stdentry ** 2]])\n",
        "\n",
        "corrcoef = np.divide(covar, dfactor)\n",
        "print(corrcoef)\n",
        "print(np.corrcoef(sales,entry));"
      ],
      "execution_count": 76,
      "outputs": [
        {
          "output_type": "stream",
          "text": [
            "[[1.         0.96283398]\n",
            " [0.96283398 1.        ]]\n",
            "[[1.         0.96283398]\n",
            " [0.96283398 1.        ]]\n"
          ],
          "name": "stdout"
        }
      ]
    },
    {
      "metadata": {
        "id": "IbZVf7nmujPJ",
        "colab_type": "text"
      },
      "cell_type": "markdown",
      "source": [
        "## 1.4 Use pandas to import a cleaned version of the titanic dataset from the following link: [Titanic Dataset](https://raw.githubusercontent.com/Geoyi/Cleaning-Titanic-Data/master/titanic_clean.csv)\n",
        "\n",
        "## Calculate the variance-covariance matrix and correlation matrix for the titanic dataset's numeric columns. (you can encode some of the categorical variables and include them as a stretch goal if you finish early)"
      ]
    },
    {
      "metadata": {
        "id": "0TWgUIiaCFzq",
        "colab_type": "code",
        "outputId": "f6572668-eae1-42dd-b771-14d8fcfaaa64",
        "colab": {
          "base_uri": "https://localhost:8080/",
          "height": 988
        }
      },
      "cell_type": "code",
      "source": [
        "import pandas as pd \n",
        "url= 'https://raw.githubusercontent.com/Geoyi/Cleaning-Titanic-Data/master/titanic_clean.csv'\n",
        "df = pd.read_csv(url)\n",
        "titancov = df.cov()\n",
        "print('Var-Covar \\n', titancov)\n",
        "titancorr = df.corr()\n",
        "print('\\n Correlation \\n',titancorr)\n"
      ],
      "execution_count": 93,
      "outputs": [
        {
          "output_type": "stream",
          "text": [
            "Var-Covar \n",
            "                      Unnamed: 0      pclass   survived          age  \\\n",
            "Unnamed: 0        143117.500000  284.357034 -53.967125 -1442.939812   \n",
            "pclass               284.357034    0.701969  -0.127248    -3.954605   \n",
            "survived             -53.967125   -0.127248   0.236250    -0.314343   \n",
            "age                -1442.939812   -3.954605  -0.314343   165.850021   \n",
            "sibsp                 25.828746    0.053090  -0.014088    -2.559806   \n",
            "parch                  1.172783    0.013287   0.034776    -1.459378   \n",
            "fare               -9410.735123  -24.227788   6.146023   114.416613   \n",
            "body                 591.579132   -2.876653   0.000000    81.622922   \n",
            "has_cabin_number     -95.438885   -0.249992   0.061406     1.463138   \n",
            "\n",
            "                      sibsp     parch         fare         body  \\\n",
            "Unnamed: 0        25.828746  1.172783 -9410.735123   591.579132   \n",
            "pclass             0.053090  0.013287   -24.227788    -2.876653   \n",
            "survived          -0.014088  0.034776     6.146023     0.000000   \n",
            "age               -2.559806 -1.459378   114.416613    81.622922   \n",
            "sibsp              1.085052  0.336833     8.641768    -8.708471   \n",
            "parch              0.336833  0.749195     9.928031     4.237190   \n",
            "fare               8.641768  9.928031  2678.959738  -179.164684   \n",
            "body              -8.708471  4.237190  -179.164684  9544.688567   \n",
            "has_cabin_number  -0.003946  0.013316    10.976961     3.625689   \n",
            "\n",
            "                  has_cabin_number  \n",
            "Unnamed: 0              -95.438885  \n",
            "pclass                   -0.249992  \n",
            "survived                  0.061406  \n",
            "age                       1.463138  \n",
            "sibsp                    -0.003946  \n",
            "parch                     0.013316  \n",
            "fare                     10.976961  \n",
            "body                      3.625689  \n",
            "has_cabin_number          0.174613  \n",
            "\n",
            " Correlation \n",
            "                   Unnamed: 0    pclass  survived       age     sibsp  \\\n",
            "Unnamed: 0          1.000000  0.897822 -0.293717 -0.296172  0.065594   \n",
            "pclass              0.897822  1.000000 -0.312469 -0.366370  0.060832   \n",
            "survived           -0.293717 -0.312469  1.000000 -0.050199 -0.027825   \n",
            "age                -0.296172 -0.366370 -0.050199  1.000000 -0.190747   \n",
            "sibsp               0.065594  0.060832 -0.027825 -0.190747  1.000000   \n",
            "parch               0.003584  0.018322  0.082660 -0.130872  0.373587   \n",
            "fare               -0.481215 -0.558629  0.244265  0.171892  0.160238   \n",
            "body                0.015558 -0.034642       NaN  0.059059 -0.099961   \n",
            "has_cabin_number   -0.603727 -0.713857  0.302250  0.271887 -0.009064   \n",
            "\n",
            "                     parch      fare      body  has_cabin_number  \n",
            "Unnamed: 0        0.003584 -0.481215  0.015558         -0.603727  \n",
            "pclass            0.018322 -0.558629 -0.034642         -0.713857  \n",
            "survived          0.082660  0.244265       NaN          0.302250  \n",
            "age              -0.130872  0.171892  0.059059          0.271887  \n",
            "sibsp             0.373587  0.160238 -0.099961         -0.009064  \n",
            "parch             1.000000  0.221539  0.051099          0.036806  \n",
            "fare              0.221539  1.000000 -0.043110          0.507253  \n",
            "body              0.051099 -0.043110  1.000000          0.083796  \n",
            "has_cabin_number  0.036806  0.507253  0.083796          1.000000  \n"
          ],
          "name": "stdout"
        }
      ]
    },
    {
      "metadata": {
        "id": "7K0Xfh8MvYkl",
        "colab_type": "text"
      },
      "cell_type": "markdown",
      "source": [
        "# Orthogonality"
      ]
    },
    {
      "metadata": {
        "id": "Pe3eOZ2fvdZ-",
        "colab_type": "text"
      },
      "cell_type": "markdown",
      "source": [
        "## 2.1 Plot two vectors that are orthogonal to each other. What is a synonym for orthogonal?"
      ]
    },
    {
      "metadata": {
        "id": "YLSBk7hJvvCx",
        "colab_type": "code",
        "colab": {
          "base_uri": "https://localhost:8080/",
          "height": 351
        },
        "outputId": "49159dc4-59ec-4466-e786-98a43c7f5185"
      },
      "cell_type": "code",
      "source": [
        "import matplotlib.pyplot as plt\n",
        "\n",
        "plt.arrow(0,0,.5,.5, head_width= 0.04, head_length = 0.04, color= 'c')\n",
        "plt.arrow(.2,.2,-.2,.5,head_width= 0.04, head_length = 0.04, color= 'r');"
      ],
      "execution_count": 118,
      "outputs": [
        {
          "output_type": "display_data",
          "data": {
            "image/png": "[encoded data removed]",
            "text/plain": [
              "<matplotlib.figure.Figure at 0x7fd718c81908>"
            ]
          },
          "metadata": {
            "tags": []
          }
        }
      ]
    },
    {
      "metadata": {
        "id": "7AS4V1Nhvvxz",
        "colab_type": "text"
      },
      "cell_type": "markdown",
      "source": [
        "## 2.2 Are the following vectors orthogonal? Why or why not?\n",
        "\n",
        "\\begin{align}\n",
        "a = \\begin{bmatrix} -5 \\\\ 3 \\\\ 7 \\end{bmatrix}\n",
        "\\qquad\n",
        "b = \\begin{bmatrix} 6 \\\\ -8 \\\\ 2 \\end{bmatrix}\n",
        "\\end{align}"
      ]
    },
    {
      "metadata": {
        "id": "F_-y54YSz47k",
        "colab_type": "code",
        "colab": {
          "base_uri": "https://localhost:8080/",
          "height": 35
        },
        "outputId": "1e8a5adf-e948-46df-8df3-a671485d5e89"
      },
      "cell_type": "code",
      "source": [
        "al= np.mat('-5;3;7')\n",
        "bl= np.mat('6,-8,2')\n",
        "ort = np.dot(bl,al)\n",
        "print(ort,'Non Orthagonal. orthagonal vectors have a dot product of Zero') "
      ],
      "execution_count": 119,
      "outputs": [
        {
          "output_type": "stream",
          "text": [
            "[[-40]] Non Orthagonal. orthagonal vectors have a dot product of Zero\n"
          ],
          "name": "stdout"
        }
      ]
    },
    {
      "metadata": {
        "id": "MiNjyqiEz5SG",
        "colab_type": "text"
      },
      "cell_type": "markdown",
      "source": [
        "## 2.3 Compute the following values: What do these quantities have in common?\n",
        "\n",
        "## What is $||c||^2$? \n",
        "\n",
        "## What is $c \\cdot c$? \n",
        "\n",
        "## What is $c^{T}c$?\n",
        "\n",
        "\\begin{align}\n",
        "c = \\begin{bmatrix} 2 & -15 & 6 & 20 \\end{bmatrix}\n",
        "\\end{align}"
      ]
    },
    {
      "metadata": {
        "id": "IlV_uaYK1EQB",
        "colab_type": "code",
        "colab": {
          "base_uri": "https://localhost:8080/",
          "height": 69
        },
        "outputId": "b9773717-7e83-4e7a-b021-6436c42dc7cc"
      },
      "cell_type": "code",
      "source": [
        "c= np.array([2,-15,6,20])\n",
        "c2= (2**2)+(-15**2)+(6**2)+(20**2)\n",
        "print(np.linalg.norm(c)**2)\n",
        "cdc= np.dot(c,c)\n",
        "print(cdc)\n",
        "transc= c.T\n",
        "print(np.matmul(transc,c))"
      ],
      "execution_count": 151,
      "outputs": [
        {
          "output_type": "stream",
          "text": [
            "665.0\n",
            "665\n",
            "665\n"
          ],
          "name": "stdout"
        }
      ]
    },
    {
      "metadata": {
        "id": "MK_TpWqk1Evk",
        "colab_type": "text"
      },
      "cell_type": "markdown",
      "source": [
        "# Unit Vectors"
      ]
    },
    {
      "metadata": {
        "id": "Kpit6WWO1b8l",
        "colab_type": "text"
      },
      "cell_type": "markdown",
      "source": [
        "## 3.1 Using Latex, write the following vectors as a linear combination of scalars and unit vectors:\n",
        "\n",
        "\\begin{align}\n",
        "d = \\begin{bmatrix} 7 \\\\ 12 \\end{bmatrix}\n",
        "\\qquad\n",
        "e = \\begin{bmatrix} 2 \\\\ 11 \\\\ -8  \\end{bmatrix}\n",
        "\\end{align}"
      ]
    },
    {
      "metadata": {
        "id": "oBCj1sDW2ouC",
        "colab_type": "text"
      },
      "cell_type": "markdown",
      "source": [
        "\\begin{align}\n",
        "d=7 \\begin{bmatrix}1\\\\0\\end{bmatrix}+12\\begin{bmatrix} 0\\\\1\\end{bmatrix}=7\\hat{i} + 12\\hat{j}\n",
        "\\end{align}\n"
      ]
    },
    {
      "metadata": {
        "id": "GXzJ6J-X4_mF",
        "colab_type": "text"
      },
      "cell_type": "markdown",
      "source": [
        " \\begin{align}e= 2\\hat{i}  \\begin{bmatrix} 1 \\\\ 0 \\\\ 0 \\end{bmatrix}11\\hat{j}\\begin{bmatrix}0 \\\\ 1 \\\\ 0 \\end{bmatrix} -8\\hat{k}\\begin{bmatrix}0 \\\\ 0 \\\\ 1 \\end{bmatrix}= 2\\hat{i}+11\\hat{j}+ -8\\hat{k}\\end{align}\n"
      ]
    },
    {
      "metadata": {
        "id": "dAdUQuep1_yJ",
        "colab_type": "text"
      },
      "cell_type": "markdown",
      "source": [
        "## 3.2 Turn vector $f$ into a unit vector:\n",
        "\n",
        "\\begin{align}\n",
        "f = \\begin{bmatrix} 4 & 12 & 11 & 9 & 2 \\end{bmatrix}\n",
        "\\end{align}"
      ]
    },
    {
      "metadata": {
        "id": "I3W8ZiHR1_Fa",
        "colab_type": "code",
        "colab": {
          "base_uri": "https://localhost:8080/",
          "height": 35
        },
        "outputId": "9da17de7-4ace-49d1-f685-eff958849883"
      },
      "cell_type": "code",
      "source": [
        "f = np.array([4,12,11,9,2])\n",
        "def unitize(f):\n",
        "  '''Takes an array(f) & returns the unit \n",
        "  vector format of the array'''\n",
        "  normf = np.linalg.norm(f)\n",
        "  unitize= (f / normf)\n",
        "  print('Unit Vector:',unitize)\n",
        "  \n",
        "unitize(f)"
      ],
      "execution_count": 158,
      "outputs": [
        {
          "output_type": "stream",
          "text": [
            "Unit Vector: [0.20908335 0.62725005 0.57497921 0.47043754 0.10454167]\n"
          ],
          "name": "stdout"
        }
      ]
    },
    {
      "metadata": {
        "id": "o39UyP-I5lpP",
        "colab_type": "text"
      },
      "cell_type": "markdown",
      "source": [
        "# Linear Independence / Dependence "
      ]
    },
    {
      "metadata": {
        "id": "ajfBqYe45sT5",
        "colab_type": "text"
      },
      "cell_type": "markdown",
      "source": [
        "## 4.1 Plot two vectors that are linearly dependent and two vectors that are linearly independent (bonus points if done in $\\mathbb{R}^3$)."
      ]
    },
    {
      "metadata": {
        "id": "pcSEW2PpPOfM",
        "colab_type": "code",
        "colab": {
          "base_uri": "https://localhost:8080/",
          "height": 363
        },
        "outputId": "2f850848-4d62-4a4e-8f73-e161c93b04f6"
      },
      "cell_type": "code",
      "source": [
        "plt.arrow(0,0.5,.5,0, head_width= .04, head_length =.04, color= 'r')\n",
        "plt.arrow(0,0.5,.8,0, head_width= .04, head_length =.04, color= 'y')\n",
        "plt.title(\"Linearly Dependent\");\n",
        "  "
      ],
      "execution_count": 177,
      "outputs": [
        {
          "output_type": "display_data",
          "data": {
            "image/png": "[encoded data removed]",
            "text/plain": [
              "<matplotlib.figure.Figure at 0x7fd718696c50>"
            ]
          },
          "metadata": {
            "tags": []
          }
        }
      ]
    },
    {
      "metadata": {
        "id": "gaAgq3idQ4ZY",
        "colab_type": "code",
        "colab": {
          "base_uri": "https://localhost:8080/",
          "height": 607
        },
        "outputId": "446a3ca8-0587-49a6-b016-0a2102c71131"
      },
      "cell_type": "code",
      "source": [
        "fig = plt.figure(figsize = (10,10))\n",
        "plt.xlim(-1.1,2)          \n",
        "plt.ylim(-1.1,2)\n",
        "\n",
        "plt.arrow(0,0,.8,.8, head_width = .14 , head_length = .14, color = 'g')\n",
        "plt.arrow(0,0,-.5,.9, head_width= .14 , head_length = .14, color = 'b')\n",
        "plt.title('Linearly Independent');"
      ],
      "execution_count": 209,
      "outputs": [
        {
          "output_type": "display_data",
          "data": {
            "image/png": "[encoded data removed]",
            "text/plain": [
              "<matplotlib.figure.Figure at 0x7fd71837fc88>"
            ]
          },
          "metadata": {
            "tags": []
          }
        }
      ]
    },
    {
      "metadata": {
        "id": "TrJ0MT_n3SvO",
        "colab_type": "text"
      },
      "cell_type": "markdown",
      "source": [
        "# Span"
      ]
    },
    {
      "metadata": {
        "id": "86iXLzwM2z8l",
        "colab_type": "text"
      },
      "cell_type": "markdown",
      "source": [
        "## 5.1 What is the span of the following vectors?\n",
        "\n",
        "\\begin{align}\n",
        "g = \\begin{bmatrix} 1 & 2 \\end{bmatrix}\n",
        "\\qquad\n",
        "h = \\begin{bmatrix} 4 & 8 \\end{bmatrix}\n",
        "\\end{align}"
      ]
    },
    {
      "metadata": {
        "id": "iNhc7tR6ZppT",
        "colab_type": "text"
      },
      "cell_type": "markdown",
      "source": [
        "**The span resulting from these Vectors would be a line. **"
      ]
    },
    {
      "metadata": {
        "id": "G2LK2RWL39Q4",
        "colab_type": "code",
        "colab": {
          "base_uri": "https://localhost:8080/",
          "height": 351
        },
        "outputId": "cea7d2e6-467c-4f4a-fd68-ced01fdb5831"
      },
      "cell_type": "code",
      "source": [
        "plt.xlim(-1.1,10)          \n",
        "plt.ylim(-1.1,10)\n",
        "plt. arrow(0,0,1,2, head_width = .5, head_length = .5, color= 'k')\n",
        "plt. arrow(0,0,4,8, head_width = .5, head_length = .5, color= 'r');"
      ],
      "execution_count": 216,
      "outputs": [
        {
          "output_type": "display_data",
          "data": {
            "image/png": "[encoded data removed]",
            "text/plain": [
              "<matplotlib.figure.Figure at 0x7fd7180b5d68>"
            ]
          },
          "metadata": {
            "tags": []
          }
        }
      ]
    },
    {
      "metadata": {
        "id": "l1deylUj4IHH",
        "colab_type": "text"
      },
      "cell_type": "markdown",
      "source": [
        "## 5.2 What is the span of $\\{l, m, n\\}$?\n",
        "\n",
        "\\begin{align}\n",
        "l = \\begin{bmatrix} 1 & 2 & 3 \\end{bmatrix}\n",
        "\\qquad\n",
        "m = \\begin{bmatrix} -1 & 0 & 7 \\end{bmatrix}\n",
        "\\qquad\n",
        "n = \\begin{bmatrix} 4 & 8  & 2\\end{bmatrix}\n",
        "\\end{align}"
      ]
    },
    {
      "metadata": {
        "id": "41HG7L43ljXK",
        "colab_type": "text"
      },
      "cell_type": "markdown",
      "source": [
        "The span is R3 "
      ]
    },
    {
      "metadata": {
        "id": "p1i_ueD25ZcP",
        "colab_type": "code",
        "colab": {
          "base_uri": "https://localhost:8080/",
          "height": 139
        },
        "outputId": "d01aba72-042a-428e-9b13-ff1adbf07c58"
      },
      "cell_type": "code",
      "source": [
        "matlmn = np.mat('1,-1,4 ; 2, 0, 8; 3,7,2')\n",
        "from scipy import linalg\n",
        "print(linalg.lu(matlmn))"
      ],
      "execution_count": 233,
      "outputs": [
        {
          "output_type": "stream",
          "text": [
            "(array([[0., 0., 1.],\n",
            "       [0., 1., 0.],\n",
            "       [1., 0., 0.]]), array([[1.        , 0.        , 0.        ],\n",
            "       [0.66666667, 1.        , 0.        ],\n",
            "       [0.33333333, 0.71428571, 1.        ]]), array([[ 3.        ,  7.        ,  2.        ],\n",
            "       [ 0.        , -4.66666667,  6.66666667],\n",
            "       [ 0.        ,  0.        , -1.42857143]]))\n"
          ],
          "name": "stdout"
        }
      ]
    },
    {
      "metadata": {
        "id": "IBqe7X1732kX",
        "colab_type": "text"
      },
      "cell_type": "markdown",
      "source": [
        "# Basis"
      ]
    },
    {
      "metadata": {
        "id": "YeUZVHRM6PpT",
        "colab_type": "text"
      },
      "cell_type": "markdown",
      "source": [
        "## 6.1 Graph two vectors that form a basis for $\\mathbb{R}^2$\n",
        "\n"
      ]
    },
    {
      "metadata": {
        "id": "utvF3Pkt8NP6",
        "colab_type": "code",
        "colab": {
          "base_uri": "https://localhost:8080/",
          "height": 351
        },
        "outputId": "330c2485-f795-4f37-f723-71f4638d4e87"
      },
      "cell_type": "code",
      "source": [
        "plt.ylim(-1,3)\n",
        "plt.xlim(-1,3)\n",
        "plt. arrow(0,0,1,0, head_width = 0.4, head_length = 0.4 , color = 'r')\n",
        "plt.arrow(0,0,0,1, head_width = 0.4, head_length = 0.4 , color = 'g');"
      ],
      "execution_count": 240,
      "outputs": [
        {
          "output_type": "display_data",
          "data": {
            "image/png": "[encoded data removed]",
            "text/plain": [
              "<matplotlib.figure.Figure at 0x7fd7183e35c0>"
            ]
          },
          "metadata": {
            "tags": []
          }
        }
      ]
    },
    {
      "metadata": {
        "id": "20yPFBDUxxnS",
        "colab_type": "text"
      },
      "cell_type": "markdown",
      "source": [
        "## 6.2 What does it mean to form a basis?"
      ]
    },
    {
      "metadata": {
        "id": "3w4tEayT8M0o",
        "colab_type": "text"
      },
      "cell_type": "markdown",
      "source": [
        "A basis consists of two or more vectors who are linarly independent and whose combinations span the space. "
      ]
    },
    {
      "metadata": {
        "id": "EHmUxbcY6vD3",
        "colab_type": "text"
      },
      "cell_type": "markdown",
      "source": [
        "# Rank"
      ]
    },
    {
      "metadata": {
        "id": "IpJwt9kw6v8U",
        "colab_type": "text"
      },
      "cell_type": "markdown",
      "source": [
        "## 7.1 What is the Rank of P?\n",
        "\n",
        "\\begin{align}\n",
        "P = \\begin{bmatrix} \n",
        "1 & 2 & 3 \\\\\n",
        " -1 & 0 & 7 \\\\\n",
        "4 & 8  & 2\n",
        "\\end{bmatrix}\n",
        "\\end{align}"
      ]
    },
    {
      "metadata": {
        "id": "Z6MXVigsqlvC",
        "colab_type": "code",
        "colab": {
          "base_uri": "https://localhost:8080/",
          "height": 35
        },
        "outputId": "3a84b340-d802-48ca-ed74-4d25668a22fe"
      },
      "cell_type": "code",
      "source": [
        "p = np.mat('1,2,3 ;-1,0,7 ;4,8,2')\n",
        "print('Rank of matrix is:',np.linalg.matrix_rank(p))"
      ],
      "execution_count": 243,
      "outputs": [
        {
          "output_type": "stream",
          "text": [
            "Rank of matrix is: 3\n"
          ],
          "name": "stdout"
        }
      ]
    },
    {
      "metadata": {
        "id": "jGqFMBYY7mHD",
        "colab_type": "text"
      },
      "cell_type": "markdown",
      "source": [
        "## 7.2 What does the rank of a matrix tell us?"
      ]
    },
    {
      "metadata": {
        "id": "Vjg1IiCD8nnP",
        "colab_type": "text"
      },
      "cell_type": "markdown",
      "source": [
        "** The rank of a matrix tell us how many dimensions it will span**"
      ]
    },
    {
      "metadata": {
        "id": "0Db2sc_V8QD6",
        "colab_type": "text"
      },
      "cell_type": "markdown",
      "source": [
        "# Linear Projections\n",
        "\n",
        "## 8.1 Line $L$ is formed by all of the vectors that can be created by scaling vector $v$ \n",
        "\\begin{align}\n",
        "v = \\begin{bmatrix} 1 & 3 \\end{bmatrix}\n",
        "\\end{align}\n",
        "\n",
        "\\begin{align}\n",
        "w = \\begin{bmatrix} -1 & 2 \\end{bmatrix}\n",
        "\\end{align}\n",
        "\n",
        "## find $proj_{L}(w)$\n",
        "\n",
        "## graph your projected vector to check your work (make sure your axis are square/even)"
      ]
    },
    {
      "metadata": {
        "id": "hp5z2WTBCNKx",
        "colab_type": "code",
        "colab": {
          "base_uri": "https://localhost:8080/",
          "height": 369
        },
        "outputId": "f01ca3dd-6bef-4565-91d6-df44fbb1bd22"
      },
      "cell_type": "code",
      "source": [
        "plt.ylim(-2,5)\n",
        "plt.xlim(-2,5)\n",
        "plt.arrow(0,0,1,3,head_width = 0.24, head_length = 0.24, color= 'g')\n",
        "plt.arrow(0,0,-1,2, head_width = 0.24, head_length = 0.24, color = 'y')"
      ],
      "execution_count": 259,
      "outputs": [
        {
          "output_type": "execute_result",
          "data": {
            "text/plain": [
              "<matplotlib.patches.FancyArrow at 0x7fd7152d9e48>"
            ]
          },
          "metadata": {
            "tags": []
          },
          "execution_count": 259
        },
        {
          "output_type": "display_data",
          "data": {
            "image/png": "[encoded data removed]",
            "text/plain": [
              "<matplotlib.figure.Figure at 0x7fd7152d9fd0>"
            ]
          },
          "metadata": {
            "tags": []
          }
        }
      ]
    },
    {
      "metadata": {
        "id": "TKkrPwRM-Oar",
        "colab_type": "text"
      },
      "cell_type": "markdown",
      "source": [
        "# Stretch Goal\n",
        "\n",
        "## For vectors that begin at the origin, the coordinates of where the vector ends can be interpreted as regular data points. (See 3Blue1Brown videos about Spans, Basis, etc.)\n",
        "\n",
        "## Write a function that can calculate the linear projection of each point (x,y) (vector) onto the line y=x. run the function and plot the original points in blue and the new projected points on the line y=x in red. \n",
        "\n",
        "## For extra points plot the orthogonal vectors as a dashed line from the original blue points to the projected red points."
      ]
    },
    {
      "metadata": {
        "id": "cp52kZra-ykj",
        "colab_type": "code",
        "outputId": "12502200-eafe-4e20-bfb7-2d539c6027cb",
        "colab": {
          "base_uri": "https://localhost:8080/",
          "height": 347
        }
      },
      "cell_type": "code",
      "source": [
        "import pandas as pd\n",
        "import matplotlib.pyplot as plt\n",
        "\n",
        "# Creating a dataframe for you to work with -Feel free to not use the dataframe if you don't want to.\n",
        "x_values = [1, 4, 7, 3, 9, 4, 5 ]\n",
        "y_values = [4, 2, 5, 0, 8, 2, 8]\n",
        "\n",
        "data = {\"x\": x_values, \"y\": y_values}\n",
        "\n",
        "df = pd.DataFrame(data)\n",
        "\n",
        "df.head()\n",
        "\n",
        "plt.scatter(df.x, df.y)\n",
        "plt.show()"
      ],
      "execution_count": 0,
      "outputs": [
        {
          "output_type": "display_data",
          "data": {
            "image/png": "[encoded data removed]",
            "text/plain": [
              "<matplotlib.figure.Figure at 0x7f787cfb2978>"
            ]
          },
          "metadata": {
            "tags": []
          }
        }
      ]
    },
    {
      "metadata": {
        "id": "EZTA6Tj6BGDb",
        "colab_type": "code",
        "colab": {}
      },
      "cell_type": "code",
      "source": [
        ""
      ],
      "execution_count": 0,
      "outputs": []
    }
  ]
}